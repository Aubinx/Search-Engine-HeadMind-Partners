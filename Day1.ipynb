{
  "cells": [
    {
      "attachments": {},
      "cell_type": "markdown",
      "metadata": {
        "id": "ori0Ylr3kAxt"
      },
      "source": [
        "# Web Information Retrieval\n",
        "## Introduction to search engines\n",
        "\n",
        "### DAY 1: Student version\n",
        "### Introduction & First Steps\n",
        "\n",
        "The goal of this first day is to go through the data and propose some ideas for the creation of your first search engine.\n",
        "\n",
        "The notebook is divided into several steps:\n",
        "- Query on the data\n",
        "- Data extraction\n",
        "- Data exploration\n",
        "- Data Visualization\n",
        "- Ideas suggestion for the search engine\n",
        "\n",
        "The data are from the stack exchange forum. They are available here : https://archive.org/details/stackexchange\n",
        "\n",
        "\n",
        "In order to gain time, you can already download 7 zip file of datascience forum (datascience.stackexchange.com.7z). If you work on Colab, we suggest you to push it on a specific directory (it may take few minutes to load).\n",
        "\n",
        "\n",
        "\n"
      ]
    },
    {
      "attachments": {},
      "cell_type": "markdown",
      "metadata": {
        "id": "Wb6hQEdZJaBT"
      },
      "source": [
        "# Query on the data\n",
        "\n",
        "Perform SQL queries to explore the data on the surface.\n",
        "\n",
        "The queries are to be done directly from this link: https://data.stackexchange.com/datascience/query/new\n",
        "\n",
        "For each query, you must test it on the site and then rewrite it in the associated cell. A capture of the results and a comment is requested in the report.\n",
        "\n",
        "You can find a cheat sheet on SQL basic syntax at: https://res.cloudinary.com/dyd911kmh/image/upload/v1675360372/Marketing/Blog/SQL_Basics_For_Data_Science.pdf\n"
      ]
    },
    {
      "cell_type": "code",
      "execution_count": 2,
      "metadata": {
        "id": "GPF6rwhUqORi"
      },
      "outputs": [
        {
          "name": "stdout",
          "output_type": "stream",
          "text": [
            "datascience.stackexchange.com/Posts.xml 75730\n",
            "datascience.stackexchange.com/Tags.xml 682\n",
            "datascience.stackexchange.com/Comments.xml 78176\n"
          ]
        }
      ],
      "source": [
        "# How many lines are in the Posts, Tags, Comments tables ?\n",
        "files = ['datascience.stackexchange.com/Posts.xml', 'datascience.stackexchange.com/Tags.xml', 'datascience.stackexchange.com/Comments.xml']\n",
        "for file in files:\n",
        "    print(file, len(open(file).readlines()))\n",
        "# SELECT COUNT(*) FROM Posts -> 76613\n",
        "# SELECT COUNT(*) FROM Tags -> 693\n",
        "# SELECT COUNT(*) FROM Comments -> 79140"
      ]
    },
    {
      "cell_type": "code",
      "execution_count": 3,
      "metadata": {
        "id": "epn2j17pqPIC"
      },
      "outputs": [
        {
          "name": "stdout",
          "output_type": "stream",
          "text": [
            "1082\n"
          ]
        }
      ],
      "source": [
        "# How many comments have there been since the beginning of the year ?\n",
        "count = 0\n",
        "for line in open('datascience.stackexchange.com/Comments.xml'):\n",
        "    if 'CreationDate=\"2023' in line:\n",
        "        count += 1\n",
        "print(count)\n",
        "\n",
        "# SELECT COUNT(*) FROM Comments WHERE CreationDate LIKE '%2023%' -> 2165"
      ]
    },
    {
      "cell_type": "code",
      "execution_count": 4,
      "metadata": {
        "id": "SkOl7AHlqT1H"
      },
      "outputs": [
        {
          "name": "stdout",
          "output_type": "stream",
          "text": [
            "125306\n"
          ]
        }
      ],
      "source": [
        "# How many users are there ?\n",
        "count = 0\n",
        "for line in open('datascience.stackexchange.com/Users.xml'):\n",
        "    if '<row' in line:\n",
        "        count += 1\n",
        "print(count)\n",
        "# SELECT COUNT(*) FROM Users -> 127712"
      ]
    },
    {
      "cell_type": "code",
      "execution_count": 5,
      "metadata": {
        "id": "JTiguRqKqV5c"
      },
      "outputs": [
        {
          "name": "stdout",
          "output_type": "stream",
          "text": [
            "19858\n",
            "16627\n",
            "13835\n",
            "2219\n"
          ]
        }
      ],
      "source": [
        "# How many new users are there each year since 2020 ?\n",
        "count2020 = 0\n",
        "count2021 = 0\n",
        "count2022 = 0\n",
        "count2023 = 0\n",
        "for line in open('datascience.stackexchange.com/Users.xml'):\n",
        "    if 'CreationDate=\"2020' in line:\n",
        "        count2020 += 1\n",
        "    elif 'CreationDate=\"2021' in line:\n",
        "        count2021 += 1\n",
        "    elif 'CreationDate=\"2022' in line:\n",
        "        count2022 += 1\n",
        "    elif 'CreationDate=\"2023' in line:\n",
        "        count2023 += 1\n",
        "print(count2020)\n",
        "print(count2021)\n",
        "print(count2022)\n",
        "print(count2023)\n",
        "# SELECT COUNT(*) FROM Users WHERE CreationDate LIKE '%2020%' -> 19856\n",
        "# SELECT COUNT(*) FROM Users WHERE CreationDate LIKE '%2021%' -> 16623\n",
        "# SELECT COUNT(*) FROM Users WHERE CreationDate LIKE '%2022%' -> 13823\n",
        "# SELECT COUNT(*) FROM Users WHERE CreationDate LIKE '%2023%' -> 4656"
      ]
    },
    {
      "cell_type": "code",
      "execution_count": 6,
      "metadata": {
        "id": "kltcQv74qYBw"
      },
      "outputs": [
        {
          "name": "stdout",
          "output_type": "stream",
          "text": [
            "\n"
          ]
        }
      ],
      "source": [
        "# What is the Content of the smallest Post ?\n",
        "\n",
        "min_len = 100000\n",
        "min_line = \"\"\n",
        "for line in open('datascience.stackexchange.com/Posts.xml'):\n",
        "    if 'Body=\"' in line:\n",
        "        if len(line) < min_len:\n",
        "            min_len = len(line)\n",
        "            min_line = line\n",
        "# get body from line\n",
        "body = min_line.split('Body=\"')[1].split('\"')[0]\n",
        "print(body)\n",
        "# SELECT TOP 1 Body FROM Posts ORDER BY LEN(Body) ASC -> \"\"\n"
      ]
    },
    {
      "cell_type": "code",
      "execution_count": 7,
      "metadata": {
        "id": "4mJQ9f2-qbMA"
      },
      "outputs": [
        {
          "name": "stdout",
          "output_type": "stream",
          "text": [
            "454\n"
          ]
        }
      ],
      "source": [
        "# What is the most voted post ?\n",
        "\n",
        "# SELECT TOP 1 Score FROM Posts ORDER BY Score DESC -> 460\n",
        "\n",
        "mostpost = 0\n",
        "for line in open('datascience.stackexchange.com/Posts.xml'):\n",
        "    if 'Score=\"' in line:\n",
        "        score = int(line.split('Score=\"')[1].split('\"')[0])\n",
        "        if score > mostpost:\n",
        "            mostpost = score\n",
        "print(mostpost)"
      ]
    },
    {
      "cell_type": "code",
      "execution_count": 8,
      "metadata": {
        "id": "-FzkIPeAqeVB"
      },
      "outputs": [
        {
          "name": "stdout",
          "output_type": "stream",
          "text": [
            "[('machine-learning', 48), ('python', 27), ('nlp', 20), ('deep-learning', 19), ('pythonpandas', 18), ('time-series', 16), ('logistic-regression', 15), ('dataset', 13), ('neural-network', 13), ('regression', 12)]\n"
          ]
        }
      ],
      "source": [
        "# What are the 10 most frequent tags in 2022? (ordered from most to least frequent)\n",
        "\n",
        "tags = {}\n",
        "for line in open('datascience.stackexchange.com/Posts.xml'):\n",
        "    if 'CreationDate=\"2022' in line and 'Tags=\"' in line:\n",
        "        if 'Tags=\"' in line:\n",
        "            taglist = line.split('Tags=\"')[1].split('\"')[0].split('><')\n",
        "            taglist = [tag.replace('&gt;', '').replace('&lt;', '') for tag in taglist]\n",
        "            for tag in taglist:\n",
        "                if tag in tags:\n",
        "                    tags[tag] += 1\n",
        "                else:\n",
        "                    tags[tag] = 1\n",
        "print(sorted(tags.items(), key=lambda x: x[1], reverse=True)[:10]) \n",
        "\n",
        "# sql tables\n",
        "# PostTags : PostId, TagId\n",
        "# Posts\n",
        "# Tags\n",
        "# What are the 10 most frequent tags in 2022? (ordered from most to least frequent)\n",
        "\n",
        "# SELECT TOP 10 Tags FROM Posts WHERE YEAR(CreationDate)=2022 GROUP BY Tags ORDER BY COUNT(*) DESC\n",
        "# null                  \n",
        "# <machine-learning>    \n",
        "# <python>              \n",
        "# <nlp>                 \n",
        "# <deep-learning>       \n",
        "# <python><pandas>      \n",
        "# <time-series>         \n",
        "# <logistic-regression> \n",
        "# <neural-network>      \n",
        "# <dataset>    "
      ]
    },
    {
      "attachments": {},
      "cell_type": "markdown",
      "metadata": {
        "id": "eePn_HW4qlUm"
      },
      "source": [
        "## Initialize the environnement"
      ]
    },
    {
      "cell_type": "code",
      "execution_count": null,
      "metadata": {
        "id": "CqwXLcP_qmrz"
      },
      "outputs": [],
      "source": [
        "## Install the library for extracting 7 zip file\n",
        "# !pip install py7zr --quiet"
      ]
    },
    {
      "cell_type": "code",
      "execution_count": 9,
      "metadata": {
        "id": "yacdJePmqo8g"
      },
      "outputs": [],
      "source": [
        "## Import the libraries\n",
        "\n",
        "import pandas as pd\n",
        "import matplotlib.pyplot as plt\n",
        "import seaborn as sns\n",
        "# from google.colab import drive\n",
        "# import py7zr\n",
        "import os"
      ]
    },
    {
      "attachments": {},
      "cell_type": "markdown",
      "metadata": {
        "id": "8FmfwnjOqv3G"
      },
      "source": [
        "There is a simple method for extracting the data directly from the website zip repo. It writes the different files directly in your google drive."
      ]
    },
    {
      "cell_type": "code",
      "execution_count": null,
      "metadata": {
        "id": "Laiz3w_YqrNu"
      },
      "outputs": [],
      "source": [
        "# Only if you use Colab\n",
        "\n",
        "# drive.mount('/content/drive')"
      ]
    },
    {
      "cell_type": "code",
      "execution_count": null,
      "metadata": {
        "id": "AM12A6cYqy3-"
      },
      "outputs": [],
      "source": [
        "# To adapt to your Drive/local directory\n",
        "\n",
        "# MAIN_PATH = '/content/drive/MyDrive/TP Centrale'\n",
        "# DATA_PATH = '/content/drive/MyDrive/TP Centrale/data'"
      ]
    },
    {
      "cell_type": "code",
      "execution_count": null,
      "metadata": {
        "id": "nq-JymDaq1O6"
      },
      "outputs": [],
      "source": [
        "# if not os.path.isdir(MAIN_PATH):\n",
        "#   os.mkdir(MAIN_PATH)\n",
        "# if not os.path.isdir(MAIN_PATH):\n",
        "#   os.mkdir(DATA_PATH)"
      ]
    },
    {
      "cell_type": "code",
      "execution_count": null,
      "metadata": {
        "id": "5OIJnSUPq6Wo"
      },
      "outputs": [],
      "source": [
        "# archive = py7zr.SevenZipFile(os.path.join(MAIN_PATH, 'datascience.stackexchange.com.7z'), mode='r')\n",
        "# archive.extractall(path=os.path.join(MAIN_PATH, 'data'))\n",
        "# archive.close()"
      ]
    },
    {
      "attachments": {},
      "cell_type": "markdown",
      "metadata": {
        "id": "7wnLEyhJrC1o"
      },
      "source": [
        "## Data Extraction\n",
        "\n",
        "The data is in XML format. Why do you think the developers preferred this format? What could have been other possible formats? (**answer expected in the report**)\n",
        "\n",
        "Here is what a raw file looks like:\n"
      ]
    },
    {
      "attachments": {},
      "cell_type": "markdown",
      "metadata": {
        "id": "oZJBY1b8xUPI"
      },
      "source": [
        "### XML Extraction example for Tags file\n",
        "Here is a method to read these XML files easily as a pandas DataFrame."
      ]
    },
    {
      "cell_type": "code",
      "execution_count": null,
      "metadata": {
        "id": "nhGdQYNqrD7G"
      },
      "outputs": [],
      "source": [
        "tags = pd.read_xml(os.path.join(DATA_PATH, 'Tags.xml'), parser=\"etree\", encoding=\"utf8\")"
      ]
    },
    {
      "cell_type": "code",
      "execution_count": null,
      "metadata": {
        "id": "I67TIuTirGL5"
      },
      "outputs": [],
      "source": [
        "tags"
      ]
    },
    {
      "attachments": {},
      "cell_type": "markdown",
      "metadata": {
        "id": "LwP3rCDsyCHp"
      },
      "source": [
        "There are several other files in the extracted folder:"
      ]
    },
    {
      "cell_type": "code",
      "execution_count": null,
      "metadata": {
        "id": "w2o52jt7yJ51"
      },
      "outputs": [],
      "source": [
        "os.listdir(DATA_PATH)"
      ]
    },
    {
      "attachments": {},
      "cell_type": "markdown",
      "metadata": {
        "id": "C1wORbZGyMMo"
      },
      "source": [
        "In the next part you will do some exploration on them, starting with the more important one: Posts.xml. It contains the many posts of the selected topic: \"data science\"."
      ]
    },
    {
      "attachments": {},
      "cell_type": "markdown",
      "metadata": {
        "id": "TrRSDOzPrLet"
      },
      "source": [
        "## Data Exploration\n",
        "\n",
        "In this part, you have to work on Posts.xml file.\n",
        "\n",
        "\n",
        "You can find a cheat sheet of pandas basic syntax at: https://pandas.pydata.org/Pandas_Cheat_Sheet.pdf"
      ]
    },
    {
      "cell_type": "code",
      "execution_count": null,
      "metadata": {
        "id": "TpZTYciRrIIs"
      },
      "outputs": [],
      "source": [
        "# Open the Posts.xml file\n",
        "\n",
        "posts = pd.read_xml(os.path.join(DATA_PATH, 'Posts.xml'), parser=\"etree\", encoding=\"utf8\")\n",
        "posts"
      ]
    },
    {
      "cell_type": "code",
      "execution_count": null,
      "metadata": {
        "id": "ZeGfUGDnrSpE"
      },
      "outputs": [],
      "source": [
        "# What is the size of this file ?"
      ]
    },
    {
      "cell_type": "code",
      "execution_count": null,
      "metadata": {
        "id": "hvPpey1brruH"
      },
      "outputs": [],
      "source": [
        "# What is the schema of the posts table ?"
      ]
    },
    {
      "cell_type": "code",
      "execution_count": null,
      "metadata": {
        "id": "MpItDd1Truqv"
      },
      "outputs": [],
      "source": [
        "# Give the mean number of new posts by user "
      ]
    },
    {
      "cell_type": "code",
      "execution_count": null,
      "metadata": {
        "id": "YQ2rUO4DrxMU"
      },
      "outputs": [],
      "source": [
        "# Run some other queries to get a better understanding of the \"Posts\" table"
      ]
    },
    {
      "attachments": {},
      "cell_type": "markdown",
      "metadata": {
        "id": "3J1FfGVNr1ja"
      },
      "source": [
        "## Data Visualization \n",
        "\n",
        "Exploring data only through queries has its limits. \n",
        "\n",
        "An important step in understanding the data is in the visualization. It is important to think about what information I want to put forward and how.\n",
        "\n",
        "You have the matplotlib and seaborn libraries available:\n",
        "- https://matplotlib.org/stable/index.html\n",
        "- https://seaborn.pydata.org/\n",
        "\n",
        "\n",
        "You can find some cheatsheets at:\n",
        " - for matplotlib: https://matplotlib.org/cheatsheets/\n",
        " - for seaborn: https://res.cloudinary.com/dyd911kmh/image/upload/v1676302629/Marketing/Blog/Seaborn_Cheat_Sheet.pdf\n"
      ]
    },
    {
      "attachments": {},
      "cell_type": "markdown",
      "metadata": {
        "id": "reWXnXkdr_-n"
      },
      "source": [
        "#### Example of matplotlib use"
      ]
    },
    {
      "cell_type": "code",
      "execution_count": null,
      "metadata": {
        "id": "4a3Urfzsr49v"
      },
      "outputs": [],
      "source": [
        "tags_5 = tags.head(5)\n",
        "\n",
        "fig, ax = plt.subplots(figsize=(8, 5), layout='constrained')\n",
        "\n",
        "plt.bar(x=tags_5[\"TagName\"], height=tags_5[\"Count\"], width=0.4)\n",
        "\n",
        "# Add some text for labels, title and custom x-axis tick labels, etc.\n",
        "ax.set_ylabel('Posts count')\n",
        "ax.set_title('Distribution of Posts count by Tag')\n",
        "ax.set_ylim(0, 12_000)\n",
        "\n",
        "plt.show()"
      ]
    },
    {
      "attachments": {},
      "cell_type": "markdown",
      "metadata": {
        "id": "rFBMPI8qsF9Q"
      },
      "source": [
        "#### Example of seaborn use"
      ]
    },
    {
      "cell_type": "code",
      "execution_count": null,
      "metadata": {
        "id": "dyx3MZ_asDOz"
      },
      "outputs": [],
      "source": [
        "tags_5 = tags.head(5)\n",
        "\n",
        "fig, ax = plt.subplots(figsize=(8, 5), layout='constrained')\n",
        "\n",
        "sns.barplot(x=tags_5[\"TagName\"], y=tags_5[\"Count\"], width=0.4)\n",
        "\n",
        "# Add some text for labels, title and custom x-axis tick labels, etc.\n",
        "ax.set_ylabel('Posts count')\n",
        "ax.set_title('Distribution of Posts count by Tag')\n",
        "ax.set_ylim(0, 12_000)\n",
        "\n",
        "plt.show()"
      ]
    },
    {
      "attachments": {},
      "cell_type": "markdown",
      "metadata": {
        "id": "1vHw-rh9sdFL"
      },
      "source": [
        "These were 2 examples of distribution visualization via histograms.\n",
        "\n",
        "On Seaborn, several types of fairly intuitive graphs are available. They are classified by type of input data:\n",
        "- Visualize 2 continuous variables: relplot\n",
        "- Visualize 1 continuous variable in relation to a categorical variable: displot\n",
        "- Visualize 2 categorical variables : catplot\n",
        "\n",
        "![image.png](https://seaborn.pydata.org/_images/function_overview_8_0.png)\n",
        "\n",
        "\n",
        "More examples can be found here : https://seaborn.pydata.org/tutorial/function_overview.html\n"
      ]
    },
    {
      "cell_type": "code",
      "execution_count": null,
      "metadata": {
        "id": "wZEe7iqxsihH"
      },
      "outputs": [],
      "source": [
        "# Viz 1 : Plot the distribution of number of posts created by users\n",
        "\n",
        "# Directly use histplot takes too long because of the number of users.\n",
        "# Better to aggregate and then use barplot\n",
        "\n",
        "# Doesn't take into account users that have never created posts\n",
        "\n",
        "posts_count = posts.groupby(\"OwnerUserId\", as_index=False)[\"Id\"].count()\n",
        "posts_count = posts_count.rename(columns={\"Id\": \"postNumber\"})\n",
        "posts_count_number = posts_count.groupby(\"postNumber\", as_index=False).count()\n",
        "\n",
        "sns.barplot(x=\"postNumber\", y=\"OwnerUserId\", data=posts_count_number)\n",
        "plt.xlim((0, 10))\n",
        "plt.ylabel(\"Number of New Posts\")\n",
        "plt.title(\"Distribution of the number of users by new posts number\")"
      ]
    },
    {
      "cell_type": "code",
      "execution_count": null,
      "metadata": {
        "id": "omajwmj1s3Ql"
      },
      "outputs": [],
      "source": [
        "# Viz 2 : Plot the distribution of number of posts by months\n",
        "posts[\"month_creation_date\"] = pd.to_datetime(posts.CreationDate).dt.month\n",
        "\n",
        "posts_by_month = posts.groupby(\"month_creation_date\", as_index=False)[\"OwnerUserId\"].count()\n",
        "\n",
        "sns.barplot(x=\"month_creation_date\", y=\"OwnerUserId\", data=posts_by_month)\n",
        "plt.ylabel(\"Number of New Posts\")\n",
        "plt.title(\"Distribution of the new posts number by months\")"
      ]
    },
    {
      "cell_type": "code",
      "execution_count": null,
      "metadata": {
        "id": "Fx2iVYoTtLBJ"
      },
      "outputs": [],
      "source": [
        "# Viz 3 : Plot the distribution of number of characters by posts and by year starting from 2020\n",
        "posts[\"CreationDateYear\"] = pd.to_datetime(posts.CreationDate).dt.year\n",
        "\n",
        "posts_sup2020 = posts[posts.CreationDateYear > 2020]\n",
        "\n",
        "posts_sup2020[\"nbCaracters\"] = posts_sup2020.Body.str.len()\n",
        "\n",
        "sns.histplot(x=\"nbCaracters\", hue=\"CreationDateYear\", data=posts_sup2020)\n",
        "plt.xlim((0, 5000))\n",
        "plt.ylabel(\"Number of Characters\")\n",
        "plt.title(\"Distribution of the number of characters by posts and by users\")"
      ]
    },
    {
      "cell_type": "code",
      "execution_count": null,
      "metadata": {
        "id": "bz2HP6O9tT-3"
      },
      "outputs": [],
      "source": [
        "# Add other visualization figures that can help you to decide the search engine architecture"
      ]
    },
    {
      "attachments": {},
      "cell_type": "markdown",
      "metadata": {
        "id": "mhDTfggBtWYM"
      },
      "source": [
        "## Exploring Other Files\n",
        "\n",
        "The purpose of this part is to understand the other files using the same process and data collection site: https://archive.org/details/stackexchange\n",
        "\n",
        "You will describe the purpose and content of each file to show your understanding of the subject. You will also make a relational diagram of the different tables directly in the report."
      ]
    },
    {
      "cell_type": "code",
      "execution_count": null,
      "metadata": {
        "id": "Q4gGnRTKtcBp"
      },
      "outputs": [],
      "source": [
        "# Open, explore and visualize other XML files to suggest features for your search engines"
      ]
    },
    {
      "attachments": {},
      "cell_type": "markdown",
      "metadata": {
        "id": "gU11G80rtfld"
      },
      "source": [
        "## Suggest ideas for the search engine\n",
        "\n",
        "Using your work and knowledge of this database, propose a structure for your search engine in the report. You do not need to code it entirely yet, simply write down some ideas you may already have on how you could build a great search engine, which data to use and how to use it.\n",
        "\n",
        "Reminder: The aim is to provide a search engine able to find information from any of the files with textual data in it (posts, comments, ...) on the datascience topic. Some files might be better than others when it comes to searching for information, some metadata could be used aswell... "
      ]
    },
    {
      "cell_type": "code",
      "execution_count": null,
      "metadata": {
        "id": "GpW9E16gzVIu"
      },
      "outputs": [],
      "source": []
    }
  ],
  "metadata": {
    "colab": {
      "provenance": []
    },
    "kernelspec": {
      "display_name": "Python 3",
      "name": "python3"
    },
    "language_info": {
      "codemirror_mode": {
        "name": "ipython",
        "version": 3
      },
      "file_extension": ".py",
      "mimetype": "text/x-python",
      "name": "python",
      "nbconvert_exporter": "python",
      "pygments_lexer": "ipython3",
      "version": "3.10.6"
    }
  },
  "nbformat": 4,
  "nbformat_minor": 0
}
